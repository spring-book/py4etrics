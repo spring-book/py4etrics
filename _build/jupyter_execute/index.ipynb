{
 "cells": [
  {
   "cell_type": "markdown",
   "metadata": {},
   "source": [
    "# Pythonで学ぶ入門計量経済学\n",
    "\n",
    "```{epigraph}\n",
    "[春山 鉄源](https://t-haruyama.github.io)\n",
    "\n",
    "神戸大学経済学研究科\n",
    "```\n",
    "\n",
    "下のサイトに移りました。\n",
    "\n",
    "↓ ↓ ↓ ↓ ↓ ↓ ↓ ↓ ↓ ↓ ↓ ↓\n",
    "\n",
    "[https://py4etrics.github.io](https://py4etrics.github.io)"
   ]
  }
 ],
 "metadata": {
  "jupytext": {
   "text_representation": {
    "extension": ".md",
    "format_name": "myst"
   }
  },
  "kernelspec": {
   "display_name": "Python 3",
   "language": "python",
   "name": "python3"
  },
  "language_info": {
   "codemirror_mode": {
    "name": "ipython",
    "version": 3
   },
   "file_extension": ".py",
   "mimetype": "text/x-python",
   "name": "python",
   "nbconvert_exporter": "python",
   "pygments_lexer": "ipython3",
   "version": "3.8.2"
  },
  "source_map": [
   10
  ]
 },
 "nbformat": 4,
 "nbformat_minor": 4
}